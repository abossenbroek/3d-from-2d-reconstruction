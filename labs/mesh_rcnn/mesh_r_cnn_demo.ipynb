{
 "cells": [
  {
   "cell_type": "markdown",
   "metadata": {},
   "source": [
    "[![Open In Colab](https://colab.research.google.com/assets/colab-badge.svg)](https://colab.research.google.com/github/abossenbroek/3d-from-2d-reconstruction/blob/main/labs/mesh_rcnn/mesh_r_cnn_demo.ipynb)"
   ]
  },
  {
   "cell_type": "markdown",
   "metadata": {},
   "source": [
    "# Example of using Mesh R-CNN\n",
    "We give a simple example of how to run [Mesh R-CNN](https://openaccess.thecvf.com/content_ICCV_2019/papers/Gkioxari_Mesh_R-CNN_ICCV_2019_paper.pdf) in a notebook. We will upload an image and show the fitted mesh."
   ]
  },
  {
   "cell_type": "code",
   "execution_count": null,
   "metadata": {},
   "outputs": [],
   "source": [
    "import os\n",
    "import sys\n",
    "import torch\n",
    "\n",
    "need_pytorch3d = False\n",
    "try:\n",
    "    import pytorch3d\n",
    "except ModuleNotFoundError:\n",
    "    need_pytorch3d = True\n",
    "if need_pytorch3d:\n",
    "    if torch.__version__.startswith(\"1.13.\") and sys.platform.startswith(\"linux\"):\n",
    "        # We try to install PyTorch3D via a released wheel.\n",
    "        pyt_version_str = torch.__version__.split(\"+\")[0].replace(\".\", \"\")\n",
    "        version_str = \"\".join(\n",
    "            [\n",
    "                f\"py3{sys.version_info.minor}_cu\",\n",
    "                torch.version.cuda.replace(\".\", \"\"),\n",
    "                f\"_pyt{pyt_version_str}\",\n",
    "            ]\n",
    "        )\n",
    "        !pip install fvcore iopath\n",
    "        !pip install --no-index --no-cache-dir pytorch3d -f https://dl.fbaipublicfiles.com/pytorch3d/packaging/wheels/{version_str}/download.html\n",
    "    else:\n",
    "        # We try to install PyTorch3D from source.\n",
    "        !curl -LO https://github.com/NVIDIA/cub/archive/1.10.0.tar.gz\n",
    "        !tar xzf 1.10.0.tar.gz\n",
    "        os.environ[\"CUB_HOME\"] = os.getcwd() + \"/cub-1.10.0\"\n",
    "        !pip install 'git+https://github.com/facebookresearch/pytorch3d.git@stable'"
   ]
  },
  {
   "cell_type": "markdown",
   "metadata": {},
   "source": [
    "## 0. Install and load dependencies"
   ]
  },
  {
   "cell_type": "code",
   "execution_count": null,
   "metadata": {},
   "outputs": [],
   "source": [
    "import glob\n",
    "import cv2\n",
    "from google.colab.patches import cv2_imshow\n",
    "from google.colab import files\n",
    "from pytorch3d.vis.plotly_vis import AxisArgs, plot_batch_individually, plot_scene\n",
    "from pytorch3d.io import load_objs_as_meshes"
   ]
  },
  {
   "cell_type": "code",
   "execution_count": null,
   "metadata": {},
   "outputs": [],
   "source": [
    "%%shell\n",
    "python -m pip install 'git+https://github.com/facebookresearch/detectron2.git'\n",
    "git clone https://github.com/facebookresearch/meshrcnn.git\n",
    "cd meshrcnn && pip install -e ."
   ]
  },
  {
   "cell_type": "markdown",
   "metadata": {},
   "source": [
    "## 2. Upload an image"
   ]
  },
  {
   "cell_type": "code",
   "execution_count": null,
   "metadata": {},
   "outputs": [],
   "source": [
    "uploaded = files.upload()"
   ]
  },
  {
   "cell_type": "code",
   "execution_count": null,
   "metadata": {},
   "outputs": [],
   "source": [
    "import os\n",
    "\n",
    "image_base_name = list(uploaded.keys())[0].split(\".jpg\")[0]\n",
    "\n",
    "os.environ[\"INPUT_IMAGE_BASE\"] = image_base_name\n",
    "os.environ[\"INPUT_IMAGE\"] = os.path.join(\"..\", list(uploaded.keys())[0])"
   ]
  },
  {
   "cell_type": "markdown",
   "metadata": {},
   "source": [
    "## 3. Run prediction"
   ]
  },
  {
   "cell_type": "code",
   "execution_count": null,
   "metadata": {},
   "outputs": [],
   "source": [
    "%%shell\n",
    "\n",
    "cd meshrcnn\n",
    "python demo/demo.py \\\n",
    "--config-file configs/pix3d/meshrcnn_R50_FPN.yaml \\\n",
    "--input $INPUT_IMAGE \\\n",
    "--output output_demo \\\n",
    "--onlyhighest MODEL.WEIGHTS meshrcnn://meshrcnn_R50.pth\n"
   ]
  },
  {
   "cell_type": "markdown",
   "metadata": {},
   "source": [
    "## 4. Show predictions\n",
    "First we will show the files that were generated"
   ]
  },
  {
   "cell_type": "code",
   "execution_count": null,
   "metadata": {},
   "outputs": [],
   "source": [
    "!ls meshrcnn/output_demo/$INPUT_IMAGE_BASE"
   ]
  },
  {
   "cell_type": "code",
   "execution_count": null,
   "metadata": {},
   "outputs": [],
   "source": [
    "img_path = os.path.join(\"meshrcnn/output_demo\", image_base_name)\n",
    "\n",
    "for img in glob.glob(img_path + \"/\" + \"*png\"):\n",
    "    img = cv2.imread(img)  # reads image\n",
    "    cv2_imshow(img)"
   ]
  },
  {
   "cell_type": "code",
   "execution_count": null,
   "metadata": {},
   "outputs": [],
   "source": []
  },
  {
   "cell_type": "code",
   "execution_count": null,
   "metadata": {},
   "outputs": [],
   "source": [
    "plots = {}\n",
    "\n",
    "for mesh_file in glob.glob(img_path + \"/\" + \"*obj\"):\n",
    "    mesh = load_objs_as_meshes([mesh_file], load_textures=False)  # reads mesh\n",
    "    plots[mesh_file] = {\"mesh\": mesh[0]}"
   ]
  },
  {
   "cell_type": "code",
   "execution_count": null,
   "metadata": {},
   "outputs": [],
   "source": [
    "plot_scene(plots)"
   ]
  },
  {
   "cell_type": "code",
   "execution_count": null,
   "metadata": {},
   "outputs": [],
   "source": []
  }
 ],
 "metadata": {
  "accelerator": "GPU",
  "gpuClass": "standard",
  "language_info": {
   "name": "python"
  }
 },
 "nbformat": 4,
 "nbformat_minor": 0
}
